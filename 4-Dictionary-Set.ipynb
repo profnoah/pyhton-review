{
 "cells": [
  {
   "cell_type": "code",
   "execution_count": null,
   "metadata": {},
   "outputs": [],
   "source": [
    "# ***************************** DICTINARY *****************************"
   ]
  },
  {
   "cell_type": "code",
   "execution_count": 22,
   "metadata": {},
   "outputs": [
    {
     "name": "stdout",
     "output_type": "stream",
     "text": [
      "dict_values(['Can', 'Yilmaz', 1980, ['Pyhton', 'C', 'Javascript']])\n",
      "dict_keys(['ad', 'soyad', 'dogum_yili', 'diller'])\n",
      "Yilmaz\n",
      "Javascript\n"
     ]
    }
   ],
   "source": [
    "kisi = {\n",
    "    \"ad\": \"Can\",\n",
    "    \"soyad\": \"Yilmaz\",\n",
    "    \"dogum_yili\": 1980,\n",
    "    \"diller\": [\"Pyhton\", \"C\", \"Javascript\"]\n",
    "}\n",
    "\n",
    "# Dict degerlerini okuma\n",
    "print(kisi.values())\n",
    "print(kisi.keys())\n",
    "print(kisi[\"soyad\"])\n",
    "print(kisi[\"diller\"][2])\n"
   ]
  },
  {
   "cell_type": "code",
   "execution_count": 23,
   "metadata": {},
   "outputs": [
    {
     "name": "stdout",
     "output_type": "stream",
     "text": [
      "{'ad': 'Can', 'soyad': 'Yahşi', 'dogum_yili': 1980, 'diller': ['Pyhton', 'C', 'Javascript']}\n",
      "{'ad': 'Mustafa', 'soyad': 'Yahşi', 'dogum_yili': 1980, 'diller': ['Pyhton', 'C', 'Javascript', 'Pascal']}\n"
     ]
    }
   ],
   "source": [
    "# Dict'e deger yazma\n",
    "kisi.update({\"soyad\":\"Yahşi\"})\n",
    "print(kisi)\n",
    "\n",
    "#Dict'e deger yazma (alternatif yöntem)\n",
    "kisi[\"ad\"] = \"Mustafa\"\n",
    "kisi[\"diller\"].append(\"Pascal\")\n",
    "print(kisi)\n"
   ]
  },
  {
   "cell_type": "code",
   "execution_count": 32,
   "metadata": {},
   "outputs": [
    {
     "name": "stdout",
     "output_type": "stream",
     "text": [
      "{1: 'Ocak', 2: 'Şubat'} <class 'dict'>\n"
     ]
    }
   ],
   "source": [
    "# alternatif olarak dict oluşturabilir\n",
    "aylar = dict({1:\"Ocak\", 2:\"Şubat\"})\n",
    "print(aylar, type(aylar))"
   ]
  },
  {
   "cell_type": "code",
   "execution_count": 16,
   "metadata": {},
   "outputs": [
    {
     "name": "stdout",
     "output_type": "stream",
     "text": [
      "{'kisi1': {'ad': 'Can', 'soyad': 'Yilmaz', 'dogum_yili': 1980}, 'kisi2': {'ad': 'Veli', 'soyad': 'Ozturk', 'dogum_yili': 1990}}\n",
      "Can\n",
      "Baki\n",
      "{'kisi1': {'ad': 'Can', 'soyad': 'Yilmaz', 'dogum_yili': 1999}, 'kisi2': {'ad': 'Veli', 'soyad': 'Baki', 'dogum_yili': 1990}}\n"
     ]
    }
   ],
   "source": [
    "# nested yapılar\n",
    "kisiler = {\"kisi1\": {\"ad\": \"Can\",\n",
    "                     \"soyad\": \"Yilmaz\",\n",
    "                     \"dogum_yili\": 1980\n",
    "                     },\n",
    "           \"kisi2\": {\"ad\": \"Veli\",\n",
    "                     \"soyad\": \"Ozturk\",\n",
    "                     \"dogum_yili\": 1990\n",
    "                     }\n",
    "           }\n",
    "print(kisiler)\n",
    "print(kisiler[\"kisi1\"].get(\"ad\"))\n",
    "kisiler[\"kisi2\"].update({\"soyad\": \"Baki\"})\n",
    "print(kisiler[\"kisi2\"][\"soyad\"])\n",
    "kisiler[\"kisi1\"][\"dogum_yili\"] = 1999\n",
    "print(kisiler)"
   ]
  },
  {
   "cell_type": "code",
   "execution_count": 3,
   "metadata": {},
   "outputs": [
    {
     "name": "stdout",
     "output_type": "stream",
     "text": [
      "<class 'list'>\n",
      "{'isim': 'Naz', 'soyisim': 'Bekir', 'sinif': 9}\n",
      "Gel\n"
     ]
    }
   ],
   "source": [
    "# Liste içerisindeki Dictonary'ler çok yaygın kullanıllır.\n",
    "ogrenciler = [\n",
    "    {\n",
    "        \"isim\": \"Naz\",\n",
    "        \"soyisim\": \"Bekir\",\n",
    "        \"sinif\": 9\n",
    "    },\n",
    "    {\n",
    "        \"isim\": \"Metin\",\n",
    "        \"soyisim\": \"Gel\",\n",
    "        \"sinif\": 10\n",
    "    },\n",
    "    {\n",
    "        \"isim\": \"Mustafa\",\n",
    "        \"soyisim\": \"Ali\",\n",
    "        \"sinif\": 11\n",
    "    }\n",
    "]\n",
    "print(type(ogrenciler))\n",
    "print(ogrenciler[0])\n",
    "print(ogrenciler[1][\"soyisim\"])\n"
   ]
  },
  {
   "cell_type": "code",
   "execution_count": 4,
   "metadata": {},
   "outputs": [
    {
     "name": "stdout",
     "output_type": "stream",
     "text": [
      "Naz\n",
      "Metin\n",
      "Mustafa\n",
      "Naz\n",
      "Metin\n",
      "Mustafa\n"
     ]
    }
   ],
   "source": [
    "#Listedeki tüm öğrenci isimlerini yazdiralim.\n",
    "for ogr in ogrenciler:\n",
    " print(ogr[\"isim\"])\n",
    "\n",
    "#alternatif olarak\n",
    "for i in range(len(ogrenciler)):\n",
    " print(ogrenciler[i][\"isim\"])\n"
   ]
  },
  {
   "cell_type": "markdown",
   "metadata": {},
   "source": [
    "# ************************* SET *****************************"
   ]
  },
  {
   "cell_type": "code",
   "execution_count": 4,
   "metadata": {},
   "outputs": [
    {
     "name": "stdout",
     "output_type": "stream",
     "text": [
      "{1, 3} <class 'set'>\n"
     ]
    }
   ],
   "source": [
    "sayilar_set = {1, 3}\n",
    "print(sayilar_set, type(sayilar_set))"
   ]
  },
  {
   "cell_type": "code",
   "execution_count": 6,
   "metadata": {},
   "outputs": [
    {
     "name": "stdout",
     "output_type": "stream",
     "text": [
      "{1, 3, 4}\n",
      "{1, 3, 4}\n"
     ]
    }
   ],
   "source": [
    "sayilar_set.add(4) \n",
    "print(sayilar_set)\n",
    "sayilar_set.add(1)\n",
    "print(sayilar_set)\n",
    "#Set'ler tekrarsız değerler içerirler. Tekrarli bir deger yazma isteği gelirse var olan index'in üzerine yazar.\n"
   ]
  },
  {
   "cell_type": "code",
   "execution_count": 13,
   "metadata": {},
   "outputs": [
    {
     "name": "stdout",
     "output_type": "stream",
     "text": [
      "A FARK B = {10, 3, 100}\n",
      "A KESİŞİM B = {32, 1, 2}\n",
      "A BİRLEŞİM B = {32, 1, 2, 3, 100, 10}\n"
     ]
    }
   ],
   "source": [
    "a = {1, 2, 3, 10, 32, 100}\n",
    "b = {1, 2, 32}\n",
    "print(\"A FARK B =\", a.difference(b))\n",
    "print(\"A KESİŞİM B =\", a.intersection(b))\n",
    "print(\"A BİRLEŞİM B =\", a.union(b))\n"
   ]
  }
 ],
 "metadata": {
  "interpreter": {
   "hash": "aee8b7b246df8f9039afb4144a1f6fd8d2ca17a180786b69acc140d282b71a49"
  },
  "kernelspec": {
   "display_name": "Python 3.9.5 64-bit",
   "language": "python",
   "name": "python3"
  },
  "language_info": {
   "codemirror_mode": {
    "name": "ipython",
    "version": 3
   },
   "file_extension": ".py",
   "mimetype": "text/x-python",
   "name": "python",
   "nbconvert_exporter": "python",
   "pygments_lexer": "ipython3",
   "version": "3.9.5"
  },
  "orig_nbformat": 4
 },
 "nbformat": 4,
 "nbformat_minor": 2
}
