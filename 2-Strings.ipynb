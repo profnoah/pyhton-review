{
 "cells": [
  {
   "cell_type": "code",
   "execution_count": null,
   "metadata": {},
   "outputs": [],
   "source": [
    "# ***************** STRING ********************"
   ]
  },
  {
   "cell_type": "code",
   "execution_count": 2,
   "metadata": {},
   "outputs": [
    {
     "name": "stdout",
     "output_type": "stream",
     "text": [
      "<class 'str'>\n",
      "D\n"
     ]
    }
   ],
   "source": [
    "sehir = \"ADANALI\"\n",
    "print(type(sehir))\n",
    "print(sehir[1])"
   ]
  },
  {
   "cell_type": "code",
   "execution_count": 4,
   "metadata": {},
   "outputs": [],
   "source": [
    "# sehir[1] = \"F\"  #str' object does not support item assignment\n"
   ]
  },
  {
   "cell_type": "code",
   "execution_count": 15,
   "metadata": {},
   "outputs": [
    {
     "name": "stdout",
     "output_type": "stream",
     "text": [
      "ANALI\n",
      "DANA\n",
      "AAA\n",
      "ANADA\n"
     ]
    },
    {
     "data": {
      "text/plain": [
       "3"
      ]
     },
     "execution_count": 15,
     "metadata": {},
     "output_type": "execute_result"
    }
   ],
   "source": [
    "str1 = sehir[2:]  # start: end :step\n",
    "print(str1)\n",
    "str2 = sehir[1:5]\n",
    "print(str2)\n",
    "str3  = sehir[:5:2]\n",
    "print(str3)\n",
    "str4 = sehir[-3::-1]\n",
    "print(str4)\n",
    "a_sayisi = sehir.count(\"A\") \n",
    "a_sayisi"
   ]
  },
  {
   "cell_type": "code",
   "execution_count": 16,
   "metadata": {},
   "outputs": [
    {
     "data": {
      "text/plain": [
       "True"
      ]
     },
     "execution_count": 16,
     "metadata": {},
     "output_type": "execute_result"
    }
   ],
   "source": [
    "basla = sehir.startswith(\"A\")\n",
    "basla"
   ]
  },
  {
   "cell_type": "code",
   "execution_count": 18,
   "metadata": {},
   "outputs": [
    {
     "data": {
      "text/plain": [
       "True"
      ]
     },
     "execution_count": 18,
     "metadata": {},
     "output_type": "execute_result"
    }
   ],
   "source": [
    "bitis = sehir.endswith(\"I\")\n",
    "bitis\n",
    "basla and bitis "
   ]
  },
  {
   "cell_type": "code",
   "execution_count": 24,
   "metadata": {},
   "outputs": [
    {
     "name": "stdout",
     "output_type": "stream",
     "text": [
      "Bugün hava çok güzel\n",
      "Bugün Hava Çok Güzel\n",
      "bugün hava çok güzel\n",
      "BUGÜN HAVA ÇOK GÜZEL\n"
     ]
    },
    {
     "data": {
      "text/plain": [
       "'Bugün hava çok güzel'"
      ]
     },
     "execution_count": 24,
     "metadata": {},
     "output_type": "execute_result"
    }
   ],
   "source": [
    "cumle = \"bugün hava çok güzel\"\n",
    "print(cumle.capitalize())\n",
    "print(cumle.title())\n",
    "print(cumle.lower())\n",
    "print(cumle.upper())\n",
    "cumle = cumle.capitalize()\n",
    "cumle\n"
   ]
  },
  {
   "cell_type": "code",
   "execution_count": 25,
   "metadata": {},
   "outputs": [
    {
     "data": {
      "text/plain": [
       "['Bugün', 'hava', 'çok', 'güzel']"
      ]
     },
     "execution_count": 25,
     "metadata": {},
     "output_type": "execute_result"
    }
   ],
   "source": [
    "splited_cumle = cumle.split()\n",
    "splited_cumle\n"
   ]
  },
  {
   "cell_type": "code",
   "execution_count": 30,
   "metadata": {},
   "outputs": [
    {
     "data": {
      "text/plain": [
       "'ahşi'"
      ]
     },
     "execution_count": 30,
     "metadata": {},
     "output_type": "execute_result"
    }
   ],
   "source": [
    "ifade1 = \" yyyyahşiyyyyy     \"\n",
    "ifade1 = ifade1.strip()\n",
    "ifade2 = ifade1.lstrip(\"y\")\n",
    "ifade3 = ifade2.rstrip(\"y\")\n",
    "ifade3\n"
   ]
  }
 ],
 "metadata": {
  "interpreter": {
   "hash": "aee8b7b246df8f9039afb4144a1f6fd8d2ca17a180786b69acc140d282b71a49"
  },
  "kernelspec": {
   "display_name": "Python 3.9.5 64-bit",
   "language": "python",
   "name": "python3"
  },
  "language_info": {
   "codemirror_mode": {
    "name": "ipython",
    "version": 3
   },
   "file_extension": ".py",
   "mimetype": "text/x-python",
   "name": "python",
   "nbconvert_exporter": "python",
   "pygments_lexer": "ipython3",
   "version": "3.9.5"
  },
  "orig_nbformat": 4
 },
 "nbformat": 4,
 "nbformat_minor": 2
}
